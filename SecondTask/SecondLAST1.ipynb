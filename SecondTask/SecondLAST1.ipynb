{
 "cells": [
  {
   "cell_type": "code",
   "execution_count": 1,
   "metadata": {},
   "outputs": [],
   "source": [
    "import pandas as pd\n",
    "import numpy as np\n",
    "import scipy as sc\n",
    "\n",
    "import sklearn as sk\n",
    "from sklearn.model_selection import train_test_split"
   ]
  },
  {
   "cell_type": "markdown",
   "metadata": {},
   "source": [
    "# Загрузка датасета"
   ]
  },
  {
   "cell_type": "markdown",
   "metadata": {},
   "source": [
    "#### Получение датасета см.прошлую версию"
   ]
  },
  {
   "cell_type": "code",
   "execution_count": 2,
   "metadata": {},
   "outputs": [],
   "source": [
    "sparse_dataset1 = sc.sparse.load_npz(r'D:\\Bugaychenko\\Netflix\\sparse_dataset_super1.npz')\n",
    "sparse_dataset2 = sc.sparse.load_npz(r'D:\\Bugaychenko\\Netflix\\sparse_dataset_super2.npz')\n",
    "sparse_dataset3 = sc.sparse.load_npz(r'D:\\Bugaychenko\\Netflix\\sparse_dataset_super3.npz')\n",
    "sparse_dataset4 = sc.sparse.load_npz(r'D:\\Bugaychenko\\Netflix\\sparse_dataset_super4.npz')\n",
    "\n",
    "\n",
    "# sparse_dataset = sc.sparse.vstack((sparse_dataset1, sparse_dataset2, sparse_dataset3, sparse_dataset4))\n",
    "\n",
    "y = np.load('target_all.npy').reshape(-1, 1)\n",
    "\n",
    "# del sparse_dataset1\n",
    "# del sparse_dataset2\n",
    "# del sparse_dataset3\n",
    "# del sparse_dataset4\n"
   ]
  },
  {
   "cell_type": "markdown",
   "metadata": {},
   "source": [
    "# FM"
   ]
  },
  {
   "cell_type": "code",
   "execution_count": 4,
   "metadata": {},
   "outputs": [],
   "source": [
    "def lr_decrease(lr,lr_dec,epochs):\n",
    "    lr = lr * np.exp(-lr_dec*epochs)\n",
    "    return lr\n",
    "\n",
    "def Nonlinear(X):\n",
    "    global Z\n",
    "    global X_squared\n",
    "    X_squared = X.power(2)\n",
    "    Z = X @ V\n",
    "    #1/2 (X*V)^2 - X^2*V^2\n",
    "    return 1/2 * np.sum(\n",
    "        np.power(Z, 2) - X_squared @ np.power(V, 2),axis=1, keepdims=True)\n",
    "        \n",
    "def predict(X):\n",
    "    return w0 + X @ w1 + Nonlinear(X)\n",
    "    \n",
    "def fit(X, Y, mini_batches=5 , batch_size = 100, lr=0.001, lr_dec=0.001, k=5):\n",
    "    global w0 \n",
    "    global w1 \n",
    "    global V\n",
    "    \n",
    "    \n",
    "    w0 = 0\n",
    "    w1 = np.random.normal(size=(X.shape[1], 1), scale=.1)\n",
    "    V = np.random.normal(size=(X.shape[1], k), scale=.1)\n",
    "    n = X.shape[0]\n",
    "    lr_new = lr\n",
    "    \n",
    "    for epoch in range(0, mini_batches):\n",
    "        batch_indices = np.random.choice(n, batch_size)\n",
    "        x = X[batch_indices, :]\n",
    "        y = Y[batch_indices]\n",
    "        y_hat = predict(x)\n",
    "        dy = 2 * (y_hat - y) \n",
    "        w0 -= np.mean(dy) * lr_new \n",
    "        w1 -= x.multiply(dy).mean(axis=0).T * lr_new\n",
    "        for i in range(k):\n",
    "            left = x.multiply(Z[:, i].reshape(-1, 1)) #X*XV\n",
    "            right = X_squared.multiply(V[:, i]) #X^2*V\n",
    "            V[:, i] -= (np.asarray((left - right).multiply(dy).mean(axis=0).T) * lr_new).flatten() \n",
    "        lr_new = lr_decrease(lr,lr_dec,epoch)\n",
    "        if(epoch %5000== 0):\n",
    "            print(epoch)\n",
    "            print(lr_new)"
   ]
  },
  {
   "cell_type": "markdown",
   "metadata": {},
   "source": [
    "### Первый фолд"
   ]
  },
  {
   "cell_type": "code",
   "execution_count": 5,
   "metadata": {},
   "outputs": [
    {
     "name": "stdout",
     "output_type": "stream",
     "text": [
      "0\n",
      "0.3\n",
      "5000\n",
      "0.2853688273502142\n",
      "10000\n",
      "0.27145122541078787\n",
      "15000\n",
      "0.25821239292751735\n",
      "20000\n",
      "0.24561922592339452\n",
      "25000\n",
      "0.23364023492142144\n",
      "30000\n",
      "0.22224546620451535\n",
      "Wall time: 1h 16min 33s\n"
     ]
    }
   ],
   "source": [
    "%%time\n",
    "rmse_train = []\n",
    "rmse_test = []\n",
    "\n",
    "\n",
    "X_train = sc.sparse.vstack((sparse_dataset2, sparse_dataset3, sparse_dataset4))\n",
    "y_train = y[sparse_dataset1.shape[0]:]\n",
    "\n",
    "X_test = sparse_dataset1\n",
    "y_test = y[:sparse_dataset1.shape[0]]\n",
    "\n",
    "\n",
    "FM2 = fit(X_train, y_train, mini_batches=X_train.shape[0]//2500, \n",
    "          batch_size=1000, lr=0.3, lr_dec=0.00001, k=5)\n"
   ]
  },
  {
   "cell_type": "code",
   "execution_count": 6,
   "metadata": {},
   "outputs": [
    {
     "name": "stdout",
     "output_type": "stream",
     "text": [
      "[1.098483049125056]\n",
      "Wall time: 1min 15s\n"
     ]
    }
   ],
   "source": [
    "%%time\n",
    "rmse_test.append(np.sqrt(sk.metrics.mean_squared_error(y_test, predict(X_test))))\n",
    "print(rmse_test)"
   ]
  },
  {
   "cell_type": "code",
   "execution_count": 7,
   "metadata": {},
   "outputs": [],
   "source": [
    "temp1 = sk.metrics.mean_squared_error(y_train[:y_train.shape[0]//3], predict(X_train[:X_train.shape[0]//3]))"
   ]
  },
  {
   "cell_type": "code",
   "execution_count": 8,
   "metadata": {},
   "outputs": [],
   "source": [
    "temp2 = sk.metrics.mean_squared_error(y_train[y_train.shape[0]//3:2*y_train.shape[0]//3], \n",
    "                                    predict(X_train[X_train.shape[0]//3:2*X_train.shape[0]//3]))"
   ]
  },
  {
   "cell_type": "code",
   "execution_count": 9,
   "metadata": {},
   "outputs": [],
   "source": [
    "temp3 = sk.metrics.mean_squared_error(y_train[2*y_train.shape[0]//3:],\n",
    "                                   predict(X_train[2*X_train.shape[0]//3:]))"
   ]
  },
  {
   "cell_type": "code",
   "execution_count": 10,
   "metadata": {},
   "outputs": [
    {
     "name": "stdout",
     "output_type": "stream",
     "text": [
      "[1.0172941017615138]\n"
     ]
    }
   ],
   "source": [
    "rmse_train.append(np.sqrt((temp1+temp2+temp3)/3))\n",
    "print(rmse_train)"
   ]
  },
  {
   "cell_type": "markdown",
   "metadata": {},
   "source": [
    "### Второй фолд"
   ]
  },
  {
   "cell_type": "code",
   "execution_count": 13,
   "metadata": {},
   "outputs": [
    {
     "name": "stdout",
     "output_type": "stream",
     "text": [
      "0\n",
      "0.3\n",
      "5000\n",
      "0.2853688273502142\n",
      "10000\n",
      "0.27145122541078787\n",
      "15000\n",
      "0.25821239292751735\n",
      "20000\n",
      "0.24561922592339452\n",
      "25000\n",
      "0.23364023492142144\n"
     ]
    }
   ],
   "source": [
    "%%time\n",
    "\n",
    "X_train = sc.sparse.vstack((sparse_dataset1, sparse_dataset3, sparse_dataset4))\n",
    "y_train = np.vstack((y[:sparse_dataset1.shape[0]],y[sparse_dataset1.shape[0] +sparse_dataset2.shape[0]:]))\n",
    "\n",
    "X_test = sparse_dataset2\n",
    "y_test = y[sparse_dataset1.shape[0]:sparse_dataset1.shape[0] +sparse_dataset2.shape[0]]\n",
    "\n",
    "FM2 = fit(X_train, y_train, mini_batches=X_train.shape[0]//2500, \n",
    "          batch_size=1000, lr=0.3, lr_dec=0.00001, k=5)\n"
   ]
  },
  {
   "cell_type": "code",
   "execution_count": 14,
   "metadata": {},
   "outputs": [
    {
     "name": "stdout",
     "output_type": "stream",
     "text": [
      "[1.098483049125056, 1.0869790267356954]\n"
     ]
    }
   ],
   "source": [
    "rmse_test.append(np.sqrt(sk.metrics.mean_squared_error(y_test, predict(X_test))))\n",
    "print(rmse_test)"
   ]
  },
  {
   "cell_type": "code",
   "execution_count": 15,
   "metadata": {},
   "outputs": [],
   "source": [
    "temp1 = sk.metrics.mean_squared_error(y_train[:y_train.shape[0]//3], predict(X_train[:X_train.shape[0]//3]))"
   ]
  },
  {
   "cell_type": "code",
   "execution_count": 16,
   "metadata": {},
   "outputs": [],
   "source": [
    "temp2 = sk.metrics.mean_squared_error(y_train[y_train.shape[0]//3:2*y_train.shape[0]//3], \n",
    "                                    predict(X_train[X_train.shape[0]//3:2*X_train.shape[0]//3]))"
   ]
  },
  {
   "cell_type": "code",
   "execution_count": 18,
   "metadata": {},
   "outputs": [],
   "source": [
    "temp3 = sk.metrics.mean_squared_error(y_train[2*y_train.shape[0]//3:],\n",
    "                                   predict(X_train[2*X_train.shape[0]//3:]))"
   ]
  },
  {
   "cell_type": "code",
   "execution_count": 19,
   "metadata": {},
   "outputs": [],
   "source": [
    "rmse_train.append(np.sqrt((temp1+temp2+temp3)/3))"
   ]
  },
  {
   "cell_type": "markdown",
   "metadata": {},
   "source": [
    "### Третий фолд"
   ]
  },
  {
   "cell_type": "code",
   "execution_count": 21,
   "metadata": {},
   "outputs": [
    {
     "name": "stdout",
     "output_type": "stream",
     "text": [
      "0\n",
      "0.3\n",
      "5000\n",
      "0.2853688273502142\n",
      "10000\n",
      "0.27145122541078787\n",
      "15000\n",
      "0.25821239292751735\n",
      "20000\n",
      "0.24561922592339452\n",
      "25000\n",
      "0.23364023492142144\n",
      "30000\n",
      "0.22224546620451535\n"
     ]
    }
   ],
   "source": [
    "X_train = sc.sparse.vstack((sparse_dataset1, sparse_dataset2, sparse_dataset4))\n",
    "y_train = np.vstack((y[:sparse_dataset1.shape[0]+sparse_dataset2.shape[0]],\n",
    "                     y[sparse_dataset1.shape[0]+sparse_dataset2.shape[0]+sparse_dataset3.shape[0] :]\n",
    "                    ))\n",
    "\n",
    "X_test = sparse_dataset3\n",
    "y_test = y[sparse_dataset1.shape[0] +sparse_dataset2.shape[0]:\n",
    "           sparse_dataset1.shape[0] +sparse_dataset2.shape[0]+ sparse_dataset3.shape[0]]\n",
    "\n",
    "FM2 = fit(X_train, y_train, mini_batches=X_train.shape[0]//2500, \n",
    "          batch_size=1000, lr=0.3, lr_dec=0.00001, k=5)\n"
   ]
  },
  {
   "cell_type": "code",
   "execution_count": 22,
   "metadata": {},
   "outputs": [
    {
     "name": "stdout",
     "output_type": "stream",
     "text": [
      "[1.098483049125056, 1.0869790267356954, 1.0954764187132677]\n"
     ]
    }
   ],
   "source": [
    "rmse_test.append(np.sqrt(sk.metrics.mean_squared_error(y_test, predict(X_test))))\n",
    "print(rmse_test)"
   ]
  },
  {
   "cell_type": "code",
   "execution_count": 23,
   "metadata": {},
   "outputs": [],
   "source": [
    "temp1 = sk.metrics.mean_squared_error(y_train[:y_train.shape[0]//3], predict(X_train[:X_train.shape[0]//3]))"
   ]
  },
  {
   "cell_type": "code",
   "execution_count": 24,
   "metadata": {},
   "outputs": [],
   "source": [
    "temp2 = sk.metrics.mean_squared_error(y_train[y_train.shape[0]//3:2*y_train.shape[0]//3], \n",
    "                                    predict(X_train[X_train.shape[0]//3:2*X_train.shape[0]//3]))"
   ]
  },
  {
   "cell_type": "code",
   "execution_count": 25,
   "metadata": {},
   "outputs": [],
   "source": [
    "temp3 = sk.metrics.mean_squared_error(y_train[2*y_train.shape[0]//3:],\n",
    "                                   predict(X_train[2*X_train.shape[0]//3:]))"
   ]
  },
  {
   "cell_type": "code",
   "execution_count": 26,
   "metadata": {},
   "outputs": [
    {
     "name": "stdout",
     "output_type": "stream",
     "text": [
      "[1.0172941017615138, 1.018692417444757, 1.0162636024456637]\n"
     ]
    }
   ],
   "source": [
    "rmse_train.append(np.sqrt((temp1+temp2+temp3)/3))\n",
    "print(rmse_train)"
   ]
  },
  {
   "cell_type": "markdown",
   "metadata": {},
   "source": [
    "### Четвертый фолд"
   ]
  },
  {
   "cell_type": "code",
   "execution_count": 27,
   "metadata": {},
   "outputs": [
    {
     "name": "stdout",
     "output_type": "stream",
     "text": [
      "0\n",
      "0.3\n",
      "5000\n",
      "0.2853688273502142\n",
      "10000\n",
      "0.27145122541078787\n",
      "15000\n",
      "0.25821239292751735\n",
      "20000\n",
      "0.24561922592339452\n",
      "25000\n",
      "0.23364023492142144\n"
     ]
    }
   ],
   "source": [
    "X_train = sc.sparse.vstack((sparse_dataset1, sparse_dataset2, sparse_dataset3))\n",
    "y_train = y[:sparse_dataset1.shape[0]+sparse_dataset2.shape[0]+sparse_dataset3.shape[0]]\n",
    "\n",
    "X_test = sparse_dataset4\n",
    "y_test = y[sparse_dataset1.shape[0]+sparse_dataset2.shape[0]+sparse_dataset3.shape[0]:]\n",
    "\n",
    "FM2 = fit(X_train, y_train, mini_batches=X_train.shape[0]//2500, \n",
    "          batch_size=1000, lr=0.3, lr_dec=0.00001, k=5)\n"
   ]
  },
  {
   "cell_type": "code",
   "execution_count": 28,
   "metadata": {},
   "outputs": [
    {
     "name": "stdout",
     "output_type": "stream",
     "text": [
      "[1.098483049125056, 1.0869790267356954, 1.0954764187132677, 1.0885702873164755]\n"
     ]
    }
   ],
   "source": [
    "rmse_test.append(np.sqrt(sk.metrics.mean_squared_error(y_test, predict(X_test))))\n",
    "print(rmse_test)"
   ]
  },
  {
   "cell_type": "code",
   "execution_count": 29,
   "metadata": {},
   "outputs": [],
   "source": [
    "temp1 = sk.metrics.mean_squared_error(y_train[:y_train.shape[0]//3], predict(X_train[:X_train.shape[0]//3]))"
   ]
  },
  {
   "cell_type": "code",
   "execution_count": 30,
   "metadata": {},
   "outputs": [],
   "source": [
    "temp2 = sk.metrics.mean_squared_error(y_train[y_train.shape[0]//3:2*y_train.shape[0]//3], \n",
    "                                    predict(X_train[X_train.shape[0]//3:2*X_train.shape[0]//3]))"
   ]
  },
  {
   "cell_type": "code",
   "execution_count": 31,
   "metadata": {},
   "outputs": [],
   "source": [
    "temp3 = sk.metrics.mean_squared_error(y_train[2*y_train.shape[0]//3:],\n",
    "                                   predict(X_train[2*X_train.shape[0]//3:]))"
   ]
  },
  {
   "cell_type": "code",
   "execution_count": 32,
   "metadata": {},
   "outputs": [
    {
     "name": "stdout",
     "output_type": "stream",
     "text": [
      "[1.0172941017615138, 1.018692417444757, 1.0162636024456637, 1.0202616981833077]\n"
     ]
    }
   ],
   "source": [
    "rmse_train.append(np.sqrt((temp1+temp2+temp3)/3))\n",
    "print(rmse_train)"
   ]
  },
  {
   "cell_type": "code",
   "execution_count": 33,
   "metadata": {},
   "outputs": [
    {
     "data": {
      "text/html": [
       "<div>\n",
       "<style scoped>\n",
       "    .dataframe tbody tr th:only-of-type {\n",
       "        vertical-align: middle;\n",
       "    }\n",
       "\n",
       "    .dataframe tbody tr th {\n",
       "        vertical-align: top;\n",
       "    }\n",
       "\n",
       "    .dataframe thead th {\n",
       "        text-align: right;\n",
       "    }\n",
       "</style>\n",
       "<table border=\"1\" class=\"dataframe\">\n",
       "  <thead>\n",
       "    <tr style=\"text-align: right;\">\n",
       "      <th></th>\n",
       "      <th>0</th>\n",
       "      <th>1</th>\n",
       "      <th>2</th>\n",
       "      <th>3</th>\n",
       "      <th>mean</th>\n",
       "      <th>std</th>\n",
       "    </tr>\n",
       "  </thead>\n",
       "  <tbody>\n",
       "    <tr>\n",
       "      <th>rmse_train</th>\n",
       "      <td>1.017294</td>\n",
       "      <td>1.018692</td>\n",
       "      <td>1.016264</td>\n",
       "      <td>1.020262</td>\n",
       "      <td>1.018128</td>\n",
       "      <td>0.001736</td>\n",
       "    </tr>\n",
       "    <tr>\n",
       "      <th>rmse_test</th>\n",
       "      <td>1.098483</td>\n",
       "      <td>1.086979</td>\n",
       "      <td>1.095476</td>\n",
       "      <td>1.088570</td>\n",
       "      <td>1.092377</td>\n",
       "      <td>0.005493</td>\n",
       "    </tr>\n",
       "  </tbody>\n",
       "</table>\n",
       "</div>"
      ],
      "text/plain": [
       "                   0         1         2         3      mean       std\n",
       "rmse_train  1.017294  1.018692  1.016264  1.020262  1.018128  0.001736\n",
       "rmse_test   1.098483  1.086979  1.095476  1.088570  1.092377  0.005493"
      ]
     },
     "execution_count": 33,
     "metadata": {},
     "output_type": "execute_result"
    }
   ],
   "source": [
    "df = pd.DataFrame(np.vstack([rmse_train, rmse_test]), index=[\n",
    "    'rmse_train',\n",
    "    'rmse_test',\n",
    "])\n",
    "\n",
    "df = pd.concat([df, df.mean(axis=1).rename('mean'), df.std(axis=1).rename('std')], axis=1)\n",
    "\n",
    "df"
   ]
  },
  {
   "cell_type": "code",
   "execution_count": null,
   "metadata": {},
   "outputs": [],
   "source": []
  },
  {
   "cell_type": "code",
   "execution_count": null,
   "metadata": {},
   "outputs": [],
   "source": []
  }
 ],
 "metadata": {
  "kernelspec": {
   "display_name": "Python 3",
   "language": "python",
   "name": "python3"
  },
  "language_info": {
   "codemirror_mode": {
    "name": "ipython",
    "version": 3
   },
   "file_extension": ".py",
   "mimetype": "text/x-python",
   "name": "python",
   "nbconvert_exporter": "python",
   "pygments_lexer": "ipython3",
   "version": "3.6.7"
  }
 },
 "nbformat": 4,
 "nbformat_minor": 2
}
