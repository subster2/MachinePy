{
 "cells": [
  {
   "cell_type": "markdown",
   "metadata": {},
   "source": [
    "# Нейронка"
   ]
  },
  {
   "cell_type": "code",
   "execution_count": 1,
   "metadata": {},
   "outputs": [
    {
     "name": "stderr",
     "output_type": "stream",
     "text": [
      "Using TensorFlow backend.\n"
     ]
    }
   ],
   "source": [
    "from keras.applications import VGG19\n",
    "from keras.engine import Model\n",
    "\n",
    "from keras.preprocessing import image\n",
    "from keras.applications.vgg19 import preprocess_input\n",
    "from PIL import Image\n",
    "import numpy as np\n",
    "import pandas as pd\n",
    "from sklearn.neighbors import DistanceMetric\n",
    "from sklearn.neighbors import BallTree\n"
   ]
  },
  {
   "cell_type": "code",
   "execution_count": 2,
   "metadata": {},
   "outputs": [],
   "source": [
    "path = r'C:\\Users\\SUB\\Desktop\\Диплом\\memsgenerator\\memegenerator1.csv'\n",
    "df = pd.read_csv(path, sep=',', encoding ='utf-16')\n",
    "df = df.drop(df[df['Base Meme Name'].isna()].index)\n",
    "\n",
    "\n",
    "\n",
    "bm = VGG19(weights='imagenet')\n",
    "model = Model(inputs=bm.input, outputs=bm.get_layer('fc1').output)"
   ]
  },
  {
   "cell_type": "code",
   "execution_count": 3,
   "metadata": {},
   "outputs": [],
   "source": [
    "def RecPrec(N,hashFunc,xstart=1,xfinish=25, rad = 1, ifprint = 'Print'):# номер картинки,хешфункция,от, до, радиус, печать графика\n",
    "    valueRec=[]\n",
    "    valuePrec=[]\n",
    "    indRadius=[]\n",
    "    tmpltNme = df['Base Meme Name'][N] #название шаблона\n",
    "    lenoftmplt = len(df[df['Base Meme Name']== tmpltNme])#кол-во картинок с базовым шаблоном в фрейме\n",
    "    for radius in np.arange(xstart, xfinish):\n",
    "        ind = tree.query_radius(hashFunc[N:N+1], r=radius/rad)  #индексы похожих эл-ов\n",
    "        sumRaP=0\n",
    "        sumRaP=sum(df['Base Meme Name'][ind[0]].values== tmpltNme)        \n",
    "        valueRec.append(sumRaP/lenoftmplt)#recall(делим на кол-во всех картинок шаблона)\n",
    "        valuePrec.append(sumRaP/len(ind[0]))#precision(делим на кол-во близких картинок)\n",
    "        indRadius.append(radius)\n",
    "    if(ifprint == 'Print'):\n",
    "        plt.plot(indRadius,valueRec,color = 'red')#recall красный\n",
    "        plt.plot(indRadius,valuePrec,color = 'blue')#precision голубой\n",
    "        plt.xlabel('Радиус')\n",
    "    return valueRec,valuePrec"
   ]
  },
  {
   "cell_type": "code",
   "execution_count": 4,
   "metadata": {},
   "outputs": [
    {
     "name": "stdout",
     "output_type": "stream",
     "text": [
      "10000\n",
      "20000\n",
      "30000\n",
      "40000\n",
      "50000\n",
      "Wall time: 36min 1s\n"
     ]
    }
   ],
   "source": [
    "%%time\n",
    "#считаем хэш\n",
    "global imgNeuron \n",
    "imgNeuron = []\n",
    "count = 0\n",
    "for i in df['Meme ID']:\n",
    "    path = r'D:\\memes\\{}.jpg'.format(i)\n",
    "    img = image.load_img(path, target_size=(224, 224)) # чтение из файла\n",
    "    x = image.img_to_array(img)  # сырое изображения в вектор\n",
    "    x = np.expand_dims(x, axis=0)  # превращаем в вектор-строку (2-dims)\n",
    "    x = preprocess_input(x) #  библиотечная подготовка изображения\n",
    "    vec = model.predict(x).ravel()\n",
    "    imgNeuron.append(vec)\n",
    "    count+=1\n",
    "    if(count%10000==0):\n",
    "        print(count)"
   ]
  },
  {
   "cell_type": "code",
   "execution_count": 7,
   "metadata": {},
   "outputs": [
    {
     "name": "stdout",
     "output_type": "stream",
     "text": [
      "Wall time: 1min 14s\n"
     ]
    }
   ],
   "source": [
    "%%time\n",
    "type(imgNeuron[0])\n",
    "import csv\n",
    "with open('imgNeuron.csv', 'w') as f:\n",
    "    csvwriter = csv.writer(f)\n",
    "    csvwriter.writerows(imgNeuron)"
   ]
  },
  {
   "cell_type": "code",
   "execution_count": 18,
   "metadata": {},
   "outputs": [
    {
     "name": "stdout",
     "output_type": "stream",
     "text": [
      "[15335.439     -459.56607    -23.520767 ...   206.1014     178.09686\n",
      "  -124.731476]\n"
     ]
    }
   ],
   "source": [
    "import scipy.fftpack as sc\n",
    "\n",
    "print(sc.dct(imgNeuron[0]))"
   ]
  },
  {
   "cell_type": "code",
   "execution_count": 14,
   "metadata": {},
   "outputs": [
    {
     "ename": "NameError",
     "evalue": "name 'plt' is not defined",
     "output_type": "error",
     "traceback": [
      "\u001b[1;31m---------------------------------------------------------------------------\u001b[0m",
      "\u001b[1;31mNameError\u001b[0m                                 Traceback (most recent call last)",
      "\u001b[1;32m<ipython-input-14-01bdb8ee33be>\u001b[0m in \u001b[0;36m<module>\u001b[1;34m\u001b[0m\n\u001b[0;32m      4\u001b[0m \u001b[0mmetrics\u001b[0m\u001b[1;33m=\u001b[0m\u001b[0mDistanceMetric\u001b[0m\u001b[1;33m.\u001b[0m\u001b[0mget_metric\u001b[0m\u001b[1;33m(\u001b[0m\u001b[1;34m'euclidean'\u001b[0m\u001b[1;33m)\u001b[0m\u001b[1;33m\u001b[0m\u001b[1;33m\u001b[0m\u001b[0m\n\u001b[0;32m      5\u001b[0m \u001b[0mtree\u001b[0m \u001b[1;33m=\u001b[0m \u001b[0mBallTree\u001b[0m\u001b[1;33m(\u001b[0m\u001b[0mimgNeuron\u001b[0m\u001b[1;33m,\u001b[0m \u001b[0mmetric\u001b[0m\u001b[1;33m=\u001b[0m\u001b[0mmetrics\u001b[0m\u001b[1;33m)\u001b[0m\u001b[1;33m\u001b[0m\u001b[1;33m\u001b[0m\u001b[0m\n\u001b[1;32m----> 6\u001b[1;33m \u001b[0msumRecprec\u001b[0m \u001b[1;33m=\u001b[0m \u001b[0mRecPrec\u001b[0m\u001b[1;33m(\u001b[0m\u001b[0mN\u001b[0m \u001b[1;33m=\u001b[0m \u001b[1;36m0\u001b[0m\u001b[1;33m,\u001b[0m\u001b[0mhashFunc\u001b[0m \u001b[1;33m=\u001b[0m \u001b[0mimgNeuron\u001b[0m\u001b[1;33m,\u001b[0m\u001b[0mxstart\u001b[0m\u001b[1;33m=\u001b[0m\u001b[1;36m0\u001b[0m\u001b[1;33m,\u001b[0m\u001b[0mxfinish\u001b[0m \u001b[1;33m=\u001b[0m\u001b[1;36m2\u001b[0m\u001b[1;33m)\u001b[0m\u001b[1;33m\u001b[0m\u001b[1;33m\u001b[0m\u001b[0m\n\u001b[0m",
      "\u001b[1;32m<ipython-input-3-2d5010a4cb9c>\u001b[0m in \u001b[0;36mRecPrec\u001b[1;34m(N, hashFunc, xstart, xfinish, rad, ifprint)\u001b[0m\n\u001b[0;32m     13\u001b[0m         \u001b[0mindRadius\u001b[0m\u001b[1;33m.\u001b[0m\u001b[0mappend\u001b[0m\u001b[1;33m(\u001b[0m\u001b[0mradius\u001b[0m\u001b[1;33m)\u001b[0m\u001b[1;33m\u001b[0m\u001b[1;33m\u001b[0m\u001b[0m\n\u001b[0;32m     14\u001b[0m     \u001b[1;32mif\u001b[0m\u001b[1;33m(\u001b[0m\u001b[0mifprint\u001b[0m \u001b[1;33m==\u001b[0m \u001b[1;34m'Print'\u001b[0m\u001b[1;33m)\u001b[0m\u001b[1;33m:\u001b[0m\u001b[1;33m\u001b[0m\u001b[1;33m\u001b[0m\u001b[0m\n\u001b[1;32m---> 15\u001b[1;33m         \u001b[0mplt\u001b[0m\u001b[1;33m.\u001b[0m\u001b[0mplot\u001b[0m\u001b[1;33m(\u001b[0m\u001b[0mindRadius\u001b[0m\u001b[1;33m,\u001b[0m\u001b[0mvalueRec\u001b[0m\u001b[1;33m,\u001b[0m\u001b[0mcolor\u001b[0m \u001b[1;33m=\u001b[0m \u001b[1;34m'red'\u001b[0m\u001b[1;33m)\u001b[0m\u001b[1;31m#recall красный\u001b[0m\u001b[1;33m\u001b[0m\u001b[1;33m\u001b[0m\u001b[0m\n\u001b[0m\u001b[0;32m     16\u001b[0m         \u001b[0mplt\u001b[0m\u001b[1;33m.\u001b[0m\u001b[0mplot\u001b[0m\u001b[1;33m(\u001b[0m\u001b[0mindRadius\u001b[0m\u001b[1;33m,\u001b[0m\u001b[0mvaluePrec\u001b[0m\u001b[1;33m,\u001b[0m\u001b[0mcolor\u001b[0m \u001b[1;33m=\u001b[0m \u001b[1;34m'blue'\u001b[0m\u001b[1;33m)\u001b[0m\u001b[1;31m#precision голубой\u001b[0m\u001b[1;33m\u001b[0m\u001b[1;33m\u001b[0m\u001b[0m\n\u001b[0;32m     17\u001b[0m         \u001b[0mplt\u001b[0m\u001b[1;33m.\u001b[0m\u001b[0mxlabel\u001b[0m\u001b[1;33m(\u001b[0m\u001b[1;34m'Радиус'\u001b[0m\u001b[1;33m)\u001b[0m\u001b[1;33m\u001b[0m\u001b[1;33m\u001b[0m\u001b[0m\n",
      "\u001b[1;31mNameError\u001b[0m: name 'plt' is not defined"
     ]
    }
   ],
   "source": [
    "metrics=DistanceMetric.get_metric('euclidean')\n",
    "tree = BallTree(imgNeuron, metric=metrics)\n",
    "sumRecprec = RecPrec(N = 0,hashFunc = imgNeuron,xstart=0,xfinish =2)"
   ]
  },
  {
   "cell_type": "code",
   "execution_count": 66,
   "metadata": {},
   "outputs": [
    {
     "name": "stdout",
     "output_type": "stream",
     "text": [
      "7667.719350940548\n",
      "28.169155398333487\n",
      "27.81722140707825\n",
      "26.380084900363727\n",
      "29.603595069050243\n",
      "\n",
      "\n",
      "26.335544450263114\n",
      "26.258738032367546\n",
      "26.172936931114236\n",
      "25.42377837965978\n",
      "26.455097832655156\n",
      "26.678158721446835\n",
      "25.87614788704377\n",
      "25.73865150969118\n",
      "27.138144464951438\n",
      "26.125659128058942\n",
      "25.467803585990623\n",
      "25.56726277725329\n",
      "26.1766319725416\n",
      "26.102524777743383\n",
      "25.763663453680238\n",
      "26.819533599431452\n",
      "26.135356049819165\n",
      "24.743965355301043\n",
      "26.55233647753994\n",
      "27.87843605256603\n",
      "24.109699423330085\n",
      "25.99161464131612\n",
      "26.26488206168142\n",
      "28.879001558982054\n"
     ]
    }
   ],
   "source": [
    "print(sum(Xnormed[0]))\n",
    "print(sum(Xnormed[8235]))\n",
    "print(sum(Xnormed[42089]))\n",
    "print(sum(Xnormed[48398]))\n",
    "print(sum(Xnormed[53859]))\n",
    "df[df['Base Meme Name']== 'Spiderman Approves']\n",
    "print(\"\\n\")\n",
    "\n",
    "for i in df[df['Base Meme Name']== 'Alright Then Business Kid'].index:\n",
    "    print(sum(Xnormed[i]))"
   ]
  },
  {
   "cell_type": "code",
   "execution_count": 46,
   "metadata": {},
   "outputs": [],
   "source": [
    "\n",
    "#If you want a normalized distance like the cosine distance, you can also normalize your vectors first and then use the euclidean metric. \n",
    "#Notice that for two normalized vectors u and v the euclidean distance is equal to sqrt(2-2*cos(u, v))\n",
    "Xnorm = np.linalg.norm(imgNeuron,axis = 1)\n",
    "Xnormed = np.divide(imgNeuron,Xnorm.reshape(Xnorm.shape[0],1))\n",
    "\n",
    "metrics=DistanceMetric.get_metric('euclidean')\n",
    "tree = BallTree(Xnormed, metric=metrics)"
   ]
  },
  {
   "cell_type": "code",
   "execution_count": 61,
   "metadata": {},
   "outputs": [
    {
     "name": "stdout",
     "output_type": "stream",
     "text": [
      "57617\n",
      "5000\n",
      "10000\n",
      "15000\n",
      "20000\n",
      "25000\n",
      "30000\n",
      "35000\n",
      "40000\n",
      "45000\n",
      "50000\n",
      "55000\n",
      "[19205.53333333 57617.        ] [5.76170000e+04 4.91770918e+00]\n",
      "Wall time: 10h 24min 46s\n"
     ]
    },
    {
     "data": {
      "image/png": "[encoded data removed]",
      "text/plain": [
       "<Figure size 432x288 with 1 Axes>"
      ]
     },
     "metadata": {
      "needs_background": "light"
     },
     "output_type": "display_data"
    }
   ],
   "source": [
    "%%time\n",
    "import warnings\n",
    "import sys\n",
    "if not sys.warnoptions:\n",
    "    warnings.simplefilter(\"ignore\")\n",
    "\n",
    "\n",
    "N = len(df['Base Meme Name'])  \n",
    "print(N)  \n",
    "\n",
    "def add(x, y):\n",
    "        return list(map(lambda a, b: a + b, x, y))\n",
    "    \n",
    "sumRecprec = RecPrec(N = 0,hashFunc = Xnormed,xstart=0,xfinish =2, ifprint = 0)\n",
    "for i, j in enumerate(df['Base Meme Name']):\n",
    "    if (i == 0): continue\n",
    "    x = RecPrec(N = k,hashFunc = Xnormed,xstart=0,xfinish =2, ifprint = 0)\n",
    "    sumRecprec = add(sumRecprec[0],x[0]),add(sumRecprec[1],x[1])\n",
    "    if(i%5000==0):\n",
    "        print(i)\n",
    "    \n",
    "asd = np.asarray(sumRecprec[0])\n",
    "asd2 = np.asarray(sumRecprec[1])\n",
    "print(asd, asd2)\n",
    "plt.plot(range(0,2),asd/N,color = 'red')#recall красный\n",
    "plt.plot(range(0,2),asd2/N,color = 'blue')#precisition голубой"
   ]
  },
  {
   "cell_type": "code",
   "execution_count": 21,
   "metadata": {},
   "outputs": [
    {
     "data": {
      "text/plain": [
       "[<matplotlib.lines.Line2D at 0x27ffb68dc50>]"
      ]
     },
     "execution_count": 21,
     "metadata": {},
     "output_type": "execute_result"
    }
   ],
   "source": [
    "import matplotlib.pyplot as plt\n",
    "plt.plot(range(0,2),asd/N,color = 'red')#recall красный\n",
    "plt.plot(range(0,2),asd2/N,color = 'blue')#precisition голубой"
   ]
  },
  {
   "cell_type": "code",
   "execution_count": 22,
   "metadata": {},
   "outputs": [
    {
     "data": {
      "text/plain": [
       "[<matplotlib.lines.Line2D at 0x27ffde97400>]"
      ]
     },
     "execution_count": 22,
     "metadata": {},
     "output_type": "execute_result"
    },
    {
     "data": {
      "image/png": "[encoded data removed]",
      "text/plain": [
       "<Figure size 432x288 with 1 Axes>"
      ]
     },
     "metadata": {
      "needs_background": "light"
     },
     "output_type": "display_data"
    }
   ],
   "source": [
    "plt.plot(range(0,2),asd/N,color = 'red')#recall красный\n",
    "plt.plot(range(0,2),asd2/N,color = 'blue')#precisition голубой"
   ]
  },
  {
   "cell_type": "code",
   "execution_count": null,
   "metadata": {},
   "outputs": [],
   "source": []
  }
 ],
 "metadata": {
  "kernelspec": {
   "display_name": "Python 3",
   "language": "python",
   "name": "python3"
  },
  "language_info": {
   "codemirror_mode": {
    "name": "ipython",
    "version": 3
   },
   "file_extension": ".py",
   "mimetype": "text/x-python",
   "name": "python",
   "nbconvert_exporter": "python",
   "pygments_lexer": "ipython3",
   "version": "3.6.7"
  }
 },
 "nbformat": 4,
 "nbformat_minor": 2
}
