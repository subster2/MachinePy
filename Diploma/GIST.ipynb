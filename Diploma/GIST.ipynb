{
 "cells": [
  {
   "cell_type": "code",
   "execution_count": 1,
   "metadata": {},
   "outputs": [],
   "source": [
    "import gist\n",
    "import numpy as np\n",
    "import pandas as pd\n",
    "import sklearn as sk\n",
    "import random\n",
    "import math as mat\n",
    "import imagehash\n",
    "import matplotlib.pyplot as plt\n",
    "from PIL import Image\n",
    "from skimage import transform\n",
    "from sklearn.neighbors import BallTree\n",
    "from sklearn.neighbors import DistanceMetric\n",
    "#import warnings\n",
    "# import sys\n",
    "# if not sys.warnoptions:\n",
    "#     warnings.simplefilter(\"ignore\")"
   ]
  },
  {
   "cell_type": "markdown",
   "metadata": {},
   "source": [
    "### Загружаем датасет"
   ]
  },
  {
   "cell_type": "code",
   "execution_count": 2,
   "metadata": {},
   "outputs": [],
   "source": [
    "path = '/home/subster2/Рабочий стол/Диплом/memsgenerator/memegenerator1.csv'\n",
    "df = pd.read_csv(path, sep=',', encoding ='utf-16')\n",
    "df = df.drop(df[df['Base Meme Name'].isna()].index)"
   ]
  },
  {
   "cell_type": "markdown",
   "metadata": {},
   "source": [
    "### Функция пресижн/реколл"
   ]
  },
  {
   "cell_type": "code",
   "execution_count": 3,
   "metadata": {},
   "outputs": [],
   "source": [
    "def RecPrec(N,hashFunc,xstart=1,xfinish=25, rad = 1, ifprint = 'Print'):# номер картинки,хешфункция,от, до, радиус, печать графика\n",
    "    valueRec=[]\n",
    "    valuePrec=[]\n",
    "    indRadius=[]\n",
    "    tmpltNme = df['Base Meme Name'][N] #название шаблона\n",
    "    lenoftmplt = len(df[df['Base Meme Name']== tmpltNme])#кол-во картинок с базовым шаблоном в фрейме\n",
    "    for radius in np.arange(xstart, xfinish):\n",
    "        ind = tree.query_radius(hashFunc[N:N+1], r=radius/rad)  #индексы похожих эл-ов\n",
    "        sumRaP=0\n",
    "#         for i in ind[0]:  вернуть если что\n",
    "#                 if((df['Base Meme Name'][i]== tmpltNme)): #мемы, название которых совпадает с шаблоном\n",
    "#                     sumRaP+=1\n",
    "        sumRaP=sum(df['Base Meme Name'][ind[0]].values== tmpltNme)        \n",
    "        valueRec.append(sumRaP/lenoftmplt)#recall(делим на кол-во всех картинок шаблона)\n",
    "        valuePrec.append(sumRaP/len(ind[0]))#precision(делим на кол-во близких картинок)\n",
    "        indRadius.append(radius)\n",
    "    if(ifprint == 'Print'):\n",
    "        plt.plot(indRadius,valueRec,color = 'red')#recall красный\n",
    "        plt.plot(indRadius,valuePrec,color = 'blue')#precision голубой\n",
    "        plt.xlabel('Радиус')\n",
    "    return valueRec,valuePrec"
   ]
  },
  {
   "cell_type": "markdown",
   "metadata": {},
   "source": [
    "### Считаем GIST"
   ]
  },
  {
   "cell_type": "code",
   "execution_count": 4,
   "metadata": {},
   "outputs": [
    {
     "name": "stdout",
     "output_type": "stream",
     "text": [
      "10000\n",
      "20000\n",
      "30000\n",
      "40000\n",
      "50000\n",
      "CPU times: user 22min 7s, sys: 19min 48s, total: 41min 55s\n",
      "Wall time: 14min 2s\n"
     ]
    }
   ],
   "source": [
    "%%time\n",
    "#считаем хэш\n",
    "global imgGist \n",
    "imgGist = []\n",
    "imsize = (64, 64)\n",
    "count = 0\n",
    "for i in df['Meme ID']:\n",
    "    path_to_image = '/home/subster2/Рабочий стол/memes/{}.jpg'.format(i)# путь к папке\n",
    "    j = np.asarray(Image.open(path_to_image))#\n",
    "    img_resized = transform.resize(j, imsize, preserve_range=True).astype(np.uint8)\n",
    "    desc = gist.extract(img_resized)\n",
    "    imgGist.append(desc)# добавляем в массив новый Gist\n",
    "    count+=1\n",
    "    if(count%10000==0):\n",
    "        print(count)"
   ]
  },
  {
   "cell_type": "code",
   "execution_count": 9,
   "metadata": {},
   "outputs": [],
   "source": [
    "#метрика\n",
    "metrics=DistanceMetric.get_metric('euclidean')\n",
    "tree = BallTree(imgGist, metric=metrics)"
   ]
  },
  {
   "cell_type": "code",
   "execution_count": 12,
   "metadata": {},
   "outputs": [],
   "source": [
    "# Просмотр шаблонов\n",
    "import time\n",
    "\n",
    "for i in df['Base Meme Name'].unique():\n",
    "    print(df[df['Base Meme Name']==i][:1].index[0])\n",
    "    print(i)\n",
    "    k = df[df['Base Meme Name']==i][:1].index[0]\n",
    "    for j in df[df['Base Meme Name']==i].index:\n",
    "        path_to_image = '/home/subster2/Рабочий стол/memes/{}.jpg'.format(df['Meme ID'][j])\n",
    "        display(Image(filename = path_to_image, width=100, height=100))\n",
    "    print(RecPrec(k,0,3))\n",
    "    time.sleep(20)\n",
    "len(df['Base Meme Name'].unique())\n",
    "\n",
    "\n",
    "#print(df[df['Base Meme Name'] == 'Spiderman Approves']['Meme ID'])\n",
    "#path_to_image = '/home/subster2/Рабочий стол/memes/{}.jpg'.format(df['Meme ID'][53859])\n",
    "#Image(filename = path_to_image, width=100, height=100)\n",
    "\n"
   ]
  },
  {
   "cell_type": "code",
   "execution_count": 11,
   "metadata": {},
   "outputs": [
    {
     "name": "stdout",
     "output_type": "stream",
     "text": [
      "1913\n",
      "100\n",
      "200\n",
      "300\n",
      "400\n",
      "500\n",
      "600\n",
      "700\n",
      "800\n",
      "900\n",
      "1000\n",
      "1100\n",
      "1200\n",
      "1300\n",
      "1400\n",
      "1500\n",
      "1600\n",
      "1700\n",
      "1800\n",
      "1900\n",
      "[ 722.17301416 1463.49549796] [1901.91666667  938.58089124]\n",
      "CPU times: user 3min 47s, sys: 0 ns, total: 3min 47s\n",
      "Wall time: 3min 47s\n"
     ]
    },
    {
     "data": {
      "image/png": "[encoded data removed]",
      "text/plain": [
       "<Figure size 432x288 with 1 Axes>"
      ]
     },
     "metadata": {
      "needs_background": "light"
     },
     "output_type": "display_data"
    }
   ],
   "source": [
    "%%time\n",
    "\n",
    "N = len(df['Base Meme Name'].unique())  \n",
    "print(N)  \n",
    "\n",
    "def add(x, y):\n",
    "        return list(map(lambda a, b: a + b, x, y))\n",
    "    \n",
    "sumRecprec = RecPrec(N = 0,hashFunc = imgGist,xstart=0,xfinish =2, ifprint = 0)\n",
    "for i, j in enumerate(df['Base Meme Name'].unique()):\n",
    "    k = df[df['Base Meme Name']==j][:1].index[0]\n",
    "    if (k == 0): continue\n",
    "    x = RecPrec(N = k,hashFunc = imgGist,xstart=0,xfinish =2, ifprint = 0)\n",
    "    sumRecprec = add(sumRecprec[0],x[0]),add(sumRecprec[1],x[1])\n",
    "    if(i%100==0):\n",
    "        print(i)\n",
    "    \n",
    "asd = np.asarray(sumRecprec[0])\n",
    "asd2 = np.asarray(sumRecprec[1])\n",
    "print(asd, asd2)\n",
    "plt.plot(range(0,2),asd/N,color = 'red')#recall красный\n",
    "plt.plot(range(0,2),asd2/N,color = 'blue')#precisition голубой"
   ]
  },
  {
   "cell_type": "markdown",
   "metadata": {},
   "source": [
    "### Считаем ImageHash\n"
   ]
  },
  {
   "cell_type": "code",
   "execution_count": 13,
   "metadata": {},
   "outputs": [
    {
     "name": "stdout",
     "output_type": "stream",
     "text": [
      "CPU times: user 1min 17s, sys: 985 ms, total: 1min 18s\n",
      "Wall time: 1min 18s\n"
     ]
    }
   ],
   "source": [
    "%%time\n",
    "global imgH\n",
    "imgH = []\n",
    "for i in df['Meme ID']:\n",
    "    path_to_image = '/home/subster2/Рабочий стол/memes/{}.jpg'.format(i)# путь к папке\n",
    "    j = imagehash.phash(Image.open(path_to_image))# строим pHash\n",
    "    imgH.append(np.ndarray.flatten(j.hash))# добавляем в массив новый pHash"
   ]
  },
  {
   "cell_type": "code",
   "execution_count": 14,
   "metadata": {},
   "outputs": [],
   "source": [
    "# метрика\n",
    "metrics=DistanceMetric.get_metric('hamming')\n",
    "tree = BallTree(imgH, metric=metrics)"
   ]
  },
  {
   "cell_type": "code",
   "execution_count": 18,
   "metadata": {},
   "outputs": [
    {
     "name": "stdout",
     "output_type": "stream",
     "text": [
      "1913\n",
      "100\n",
      "200\n",
      "300\n",
      "400\n",
      "500\n",
      "600\n",
      "700\n",
      "800\n",
      "900\n",
      "1000\n",
      "1100\n",
      "1200\n",
      "1300\n",
      "1400\n",
      "1500\n",
      "1600\n",
      "1700\n",
      "1800\n",
      "1900\n",
      "[1172.5094829  1172.5094829  1304.02248391 1304.02248391 1407.37794694] [1196.23743747 1196.23743747 1127.46148875 1127.46148875 1019.66088689]\n"
     ]
    },
    {
     "data": {
      "text/plain": [
       "[<matplotlib.lines.Line2D at 0x7f96705b5f28>]"
      ]
     },
     "execution_count": 18,
     "metadata": {},
     "output_type": "execute_result"
    },
    {
     "data": {
      "image/png": "[encoded data removed]",
      "text/plain": [
       "<Figure size 432x288 with 1 Axes>"
      ]
     },
     "metadata": {
      "needs_background": "light"
     },
     "output_type": "display_data"
    }
   ],
   "source": [
    "N = len(df['Base Meme Name'].unique())  \n",
    "print(N)  \n",
    "\n",
    "def add(x, y):\n",
    "        return list(map(lambda a, b: a + b, x, y))\n",
    "    \n",
    "sumRecprec = RecPrec(N = 0,hashFunc = imgH,xstart=8,xfinish =13,rad = 64, ifprint = 0)\n",
    "for i, j in enumerate(df['Base Meme Name'].unique()):\n",
    "    k = df[df['Base Meme Name']==j][:1].index[0]\n",
    "    if (k == 0): continue\n",
    "    x = RecPrec(N = k,hashFunc = imgH,xstart=8,xfinish =13,rad = 64, ifprint = 0)\n",
    "    sumRecprec = add(sumRecprec[0],x[0]),add(sumRecprec[1],x[1])\n",
    "    if(i%100==0):\n",
    "        print(i)\n",
    "    \n",
    "asd = np.asarray(sumRecprec[0])\n",
    "asd2 = np.asarray(sumRecprec[1])\n",
    "print(asd, asd2)\n",
    "plt.plot(range(8,13),asd/N,color = 'red')#recall красный\n",
    "plt.plot(range(8,13),asd2/N,color = 'blue')#precisition голубой"
   ]
  },
  {
   "cell_type": "code",
   "execution_count": null,
   "metadata": {},
   "outputs": [],
   "source": []
  }
 ],
 "metadata": {
  "kernelspec": {
   "display_name": "Python 3",
   "language": "python",
   "name": "python3"
  },
  "language_info": {
   "codemirror_mode": {
    "name": "ipython",
    "version": 3
   },
   "file_extension": ".py",
   "mimetype": "text/x-python",
   "name": "python",
   "nbconvert_exporter": "python",
   "pygments_lexer": "ipython3",
   "version": "3.6.7"
  }
 },
 "nbformat": 4,
 "nbformat_minor": 2
}
